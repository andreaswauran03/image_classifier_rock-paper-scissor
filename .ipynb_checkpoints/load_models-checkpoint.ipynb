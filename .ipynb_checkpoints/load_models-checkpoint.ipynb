{
 "cells": [
  {
   "cell_type": "code",
   "execution_count": 2,
   "id": "541dd3e6-26e0-4848-8282-b540463acb7e",
   "metadata": {},
   "outputs": [],
   "source": [
    "from tensorflow.keras import models"
   ]
  },
  {
   "cell_type": "code",
   "execution_count": 3,
   "id": "3ac38d18-fa42-437c-8934-5c34e0e1d389",
   "metadata": {},
   "outputs": [],
   "source": [
    "# Load Model\n",
    "loaded_model = models.load_model(\"ImageClassifier\")"
   ]
  },
  {
   "cell_type": "code",
   "execution_count": null,
   "id": "d65ba7dc-86b6-44b4-b2d4-01ed6553c138",
   "metadata": {},
   "outputs": [],
   "source": []
  }
 ],
 "metadata": {
  "kernelspec": {
   "display_name": "Python 3 (ipykernel)",
   "language": "python",
   "name": "python3"
  },
  "language_info": {
   "codemirror_mode": {
    "name": "ipython",
    "version": 3
   },
   "file_extension": ".py",
   "mimetype": "text/x-python",
   "name": "python",
   "nbconvert_exporter": "python",
   "pygments_lexer": "ipython3",
   "version": "3.11.4"
  }
 },
 "nbformat": 4,
 "nbformat_minor": 5
}
